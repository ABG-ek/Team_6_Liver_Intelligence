{
 "cells": [
  {
   "cell_type": "code",
   "execution_count": 11,
   "metadata": {},
   "outputs": [
    {
     "name": "stdout",
     "output_type": "stream",
     "text": [
      "['N' 'Y']\n",
      "['Y' 'N']\n",
      "['N' 'Y']\n",
      "['N' 'Y' 'S']\n",
      "['D-penicillamine' 'Placebo']\n"
     ]
    }
   ],
   "source": [
    "\n",
    "\n",
    "# \n",
    "\n",
    "# #df.Drug.unique()\n",
    "# for i in ['Ascites','Hepatomegaly','Spiders','Edema', 'Drug']:\n",
    "#     print(df[i].unique())"
   ]
  },
  {
   "cell_type": "code",
   "execution_count": 17,
   "metadata": {},
   "outputs": [
    {
     "name": "stderr",
     "output_type": "stream",
     "text": [
      "[nltk_data] Downloading package punkt to\n",
      "[nltk_data]     C:\\Users\\Professional\\AppData\\Roaming\\nltk_data...\n",
      "[nltk_data]   Package punkt is already up-to-date!\n",
      "[nltk_data] Downloading package punkt_tab to\n",
      "[nltk_data]     C:\\Users\\Professional\\AppData\\Roaming\\nltk_data...\n",
      "[nltk_data]   Package punkt_tab is already up-to-date!\n"
     ]
    }
   ],
   "source": [
    "import pandas as pd\n",
    "import nltk\n",
    "from sklearn.feature_extraction.text import TfidfVectorizer\n",
    "from sklearn.model_selection import train_test_split\n",
    "from sklearn.ensemble import RandomForestClassifier\n",
    "from sklearn.metrics import accuracy_score\n",
    "from sklearn.metrics import confusion_matrix\n",
    "from sklearn.metrics import classification_report\n",
    "from sklearn.preprocessing import LabelEncoder\n",
    "\n",
    "nltk.download('punkt')\n",
    "nltk.download('punkt_tab')\n",
    "\n",
    "df = pd.read_csv('liver/train.csv')\n",
    "\n",
    "df.loc[df['Sex'] == 'F', 'Sex'] = 'Female'\n",
    "df.loc[df['Sex'] == 'M', 'Sex'] = 'Male'\n",
    "df.loc[df['Ascites'] == 'N', 'Ascites'] = 'No'\n",
    "df.loc[df['Ascites'] == 'Y', 'Ascites'] = 'Yes'\n",
    "df.loc[df['Hepatomegaly'] == 'N', 'Hepatomegaly'] = 'No'\n",
    "df.loc[df['Hepatomegaly'] == 'Y', 'Hepatomegaly'] = 'Yes'\n",
    "df.loc[df['Edema'] == 'N', 'Edema'] = 'No'\n",
    "df.loc[df['Edema'] == 'Y', 'Edema'] = 'Yes'\n",
    "df.loc[df['Spiders'] == 'N', 'Spiders'] = 'No'\n",
    "df.loc[df['Spiders'] == 'Y', 'Spiders'] = 'Yes'"
   ]
  },
  {
   "cell_type": "code",
   "execution_count": 18,
   "metadata": {},
   "outputs": [
    {
     "name": "stdout",
     "output_type": "stream",
     "text": [
      "0         D-penicillamine Male No No No No\n",
      "1               Placebo Female No No No No\n",
      "2            Placebo Female No Yes Yes Yes\n",
      "3               Placebo Female No No No No\n",
      "4              Placebo Female No Yes No No\n",
      "                       ...                \n",
      "7900    D-penicillamine Female No No No No\n",
      "7901           Placebo Female No Yes No No\n",
      "7902    D-penicillamine Female No No Yes S\n",
      "7903     D-penicillamine Male No Yes No No\n",
      "7904    D-penicillamine Female No No No No\n",
      "Name: Tokenized, Length: 7905, dtype: object\n"
     ]
    }
   ],
   "source": [
    "from nltk.tokenize import word_tokenize\n",
    "\n",
    "# df['Combined_1'] = df[['Drug', 'Sex']].agg(' '.join, axis=1)\n",
    "# df['Combined_2'] = df[['Ascites', 'Hepatomegaly', 'Spiders', 'Edema', 'Status']].agg(' '.join, axis=1)\n",
    "# df['Tokenized_2'] = df['Combined_2'].apply(lambda x: ' '.join(word_tokenize(x)))\n",
    "# df['Tokenized_1'] = df['Combined_1'].apply(lambda x: ' '.join(word_tokenize(x)))\n",
    "\n",
    "df['Combined'] = df[['Drug', 'Sex', 'Ascites', 'Hepatomegaly', 'Spiders', 'Edema']].agg(' '.join, axis=1)\n",
    "df['Tokenized'] = df['Combined'].apply(lambda x: ' '.join(word_tokenize(x)))\n",
    "#print(df.Tokenized)\n",
    "print(df.Tokenized)"
   ]
  },
  {
   "cell_type": "code",
   "execution_count": 19,
   "metadata": {},
   "outputs": [
    {
     "name": "stdout",
     "output_type": "stream",
     "text": [
      "        Female      Male        No   Placebo       Yes  penicillamine\n",
      "0     0.000000  0.633304  0.714250  0.000000  0.000000       0.297948\n",
      "1     0.236035  0.000000  0.899095  0.368667  0.000000       0.000000\n",
      "2     0.205352  0.000000  0.195555  0.320743  0.903722       0.000000\n",
      "3     0.236035  0.000000  0.899095  0.368667  0.000000       0.000000\n",
      "4     0.269648  0.000000  0.770350  0.421168  0.395560       0.000000\n",
      "...        ...       ...       ...       ...       ...            ...\n",
      "7900  0.235476  0.000000  0.896967  0.000000  0.000000       0.374168\n",
      "7901  0.269648  0.000000  0.770350  0.421168  0.395560       0.000000\n",
      "7902  0.327838  0.000000  0.624394  0.000000  0.480921       0.520930\n",
      "7903  0.000000  0.685919  0.580193  0.000000  0.297918       0.322702\n",
      "7904  0.235476  0.000000  0.896967  0.000000  0.000000       0.374168\n",
      "\n",
      "[7905 rows x 6 columns]\n"
     ]
    }
   ],
   "source": [
    "# tfidf_1 = TfidfVectorizer()\n",
    "# tfidf_features_1 = tfidf_1.fit_transform(df['Tokenized_1'])\n",
    "\n",
    "# tfidf_df = pd.DataFrame(tfidf_features_1.toarray(), columns=tfidf_1.get_feature_names_out())\n",
    "# #--------------------------\n",
    "# tfidf_2 = TfidfVectorizer(lowercase=False, stop_words=None)\n",
    "# tfidf_features_2 = tfidf_2.fit_transform(df['Tokenized_2'])\n",
    "\n",
    "# tfidf_df_2 = pd.DataFrame(tfidf_features_2.toarray(), columns=tfidf_2.get_feature_names_out())\n",
    "#---------------------------\n",
    "#--------------------------\n",
    "tfidf = TfidfVectorizer(lowercase=False, stop_words=None)\n",
    "tfidf_features = tfidf.fit_transform(df['Tokenized'])\n",
    "\n",
    "tfidf_df = pd.DataFrame(tfidf_features.toarray(), columns=tfidf.get_feature_names_out())\n",
    "#---------------------------\n",
    "# 4. Объединение с числовыми признаками\n",
    "numeric_features = df[['N_Days', 'Age', 'Bilirubin', 'Cholesterol', 'Albumin', 'Copper', \n",
    "                         'Alk_Phos', 'SGOT', 'Tryglicerides', 'Platelets', 'Prothrombin', 'Stage']]\n",
    "final_data = pd.concat([numeric_features.reset_index(drop=True), tfidf_df.reset_index(drop=True)], axis=1)\n",
    "\n",
    "label_encoder = LabelEncoder()\n",
    "df.Status = label_encoder.fit_transform(df.Status)\n",
    "\n",
    "print(tfidf_df)"
   ]
  },
  {
   "cell_type": "code",
   "execution_count": 20,
   "metadata": {},
   "outputs": [
    {
     "name": "stdout",
     "output_type": "stream",
     "text": [
      "0.8285895003162556\n",
      "Accuracy: 0.8285895003162556\n",
      "Classification Report:\n",
      "               precision    recall  f1-score   support\n",
      "\n",
      "           0       0.83      0.93      0.88       966\n",
      "           1       0.67      0.12      0.20        52\n",
      "           2       0.84      0.72      0.77       563\n",
      "\n",
      "    accuracy                           0.83      1581\n",
      "   macro avg       0.78      0.59      0.62      1581\n",
      "weighted avg       0.82      0.83      0.82      1581\n",
      "\n"
     ]
    }
   ],
   "source": [
    "X = final_data\n",
    "y = df['Status']\n",
    "\n",
    "X_train, X_test, y_train, y_test = train_test_split(X, y, test_size=0.2, random_state=42)\n",
    "\n",
    "model = RandomForestClassifier(n_estimators=100, random_state=42)\n",
    "model.fit(X_train, y_train)\n",
    "#print(X_test)\n",
    "accuracy = model.score(X_test, y_test)\n",
    "\n",
    "y_pred = model.predict(X_test)\n",
    "\n",
    "print(accuracy)\n",
    "\n",
    "accuracy = accuracy_score(y_test, y_pred)\n",
    "report = classification_report(y_test, y_pred)\n",
    "confusion_selected1 = confusion_matrix(y_test, y_pred)\n",
    "\n",
    "print(f'Accuracy: {accuracy}')\n",
    "print('Classification Report:\\n', report)"
   ]
  }
 ],
 "metadata": {
  "kernelspec": {
   "display_name": "Python 3",
   "language": "python",
   "name": "python3"
  },
  "language_info": {
   "codemirror_mode": {
    "name": "ipython",
    "version": 3
   },
   "file_extension": ".py",
   "mimetype": "text/x-python",
   "name": "python",
   "nbconvert_exporter": "python",
   "pygments_lexer": "ipython3",
   "version": "3.11.9"
  }
 },
 "nbformat": 4,
 "nbformat_minor": 2
}
